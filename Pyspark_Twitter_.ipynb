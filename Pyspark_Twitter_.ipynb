{
  "nbformat": 4,
  "nbformat_minor": 0,
  "metadata": {
    "colab": {
      "provenance": [],
      "authorship_tag": "ABX9TyM0qcLPmYXGfgIsLl4CXhG4",
      "include_colab_link": true
    },
    "kernelspec": {
      "name": "python3",
      "display_name": "Python 3"
    },
    "language_info": {
      "name": "python"
    }
  },
  "cells": [
    {
      "cell_type": "markdown",
      "metadata": {
        "id": "view-in-github",
        "colab_type": "text"
      },
      "source": [
        "<a href=\"https://colab.research.google.com/github/sightes/BIGDATA-UBO2022/blob/main/Pyspark_Twitter_.ipynb\" target=\"_parent\"><img src=\"https://colab.research.google.com/assets/colab-badge.svg\" alt=\"Open In Colab\"/></a>"
      ]
    },
    {
      "cell_type": "code",
      "execution_count": null,
      "metadata": {
        "id": "GLVjmwYHMxMq"
      },
      "outputs": [],
      "source": [
        "import configparser\n",
        "import tweepy\n",
        "import pandas as pd\n",
        "# Set up your credentials\n",
        "consumer_key='RT7J7AamjjqQcygpb3spKSPGX'\n",
        "consumer_secret='g5hloTxWrzCFxIyzZ4GGnpRcZ2nNrfWRvbA20RVMqd4TRSvYVX'\n",
        "access_token ='27903879-2fgC78QL20NzCeYYxKWOmjXLx81I8RkXWona5n5v1'\n",
        "access_secret='kQoXqHLacDzxcaYjcqZ4YatPZElT5G5mMDtjyRzVYtrro'"
      ]
    },
    {
      "cell_type": "code",
      "source": [
        "%%capture\n",
        "!apt-get install openjdk-8-jdk-headless -qq > /dev/null\n",
        "!wget 'https://dlcdn.apache.org/spark/spark-3.3.1/spark-3.3.1-bin-hadoop3.tgz' -O 'spark-3.3.1-bin-hadoop3.tgz'\n",
        "!tar -xvf /content/spark-3.3.1-bin-hadoop3.tgz\n",
        "!pip install -q findspark \n"
      ],
      "metadata": {
        "id": "R4AZexWUM8ka"
      },
      "execution_count": null,
      "outputs": []
    },
    {
      "cell_type": "code",
      "source": [
        "\n",
        "%%python --bg\n",
        "\n",
        "import tweepy\n",
        "from tweepy import OAuthHandler\n",
        "from tweepy import Stream\n",
        "from tweepy.streaming import StreamListener\n",
        "import socket\n",
        "import json\n",
        "\n",
        "# Set up your credentials\n",
        "consumer_key='RT7J7AamjjqQcygpb3spKSPGX'\n",
        "consumer_secret='g5hloTxWrzCFxIyzZ4GGnpRcZ2nNrfWRvbA20RVMqd4TRSvYVX'\n",
        "access_token ='27903879-2fgC78QL20NzCeYYxKWOmjXLx81I8RkXWona5n5v1'\n",
        "access_secret='kQoXqHLacDzxcaYjcqZ4YatPZElT5G5mMDtjyRzVYtrro'\n",
        "\n",
        "class TweetsListener(StreamListener):\n",
        "\n",
        "  def __init__(self, csocket):\n",
        "      self.client_socket = csocket\n",
        "\n",
        "  def on_data(self, data):\n",
        "      try:\n",
        "          msg = json.loads( data )\n",
        "          print( msg['text'].encode('utf-8') )\n",
        "          self.client_socket.send( msg['text'].encode('utf-8') )\n",
        "          return True\n",
        "      except BaseException as e:\n",
        "          print(\"Error on_data: %s\" % str(e))\n",
        "      return True\n",
        "\n",
        "  def on_error(self, status):\n",
        "      print(status)\n",
        "      return True\n",
        "\n",
        "def sendData(c_socket):\n",
        "  auth = OAuthHandler(consumer_key, consumer_secret)\n",
        "  auth.set_access_token(access_token, access_secret)\n",
        "  twitter_stream = Stream(auth, TweetsListener(c_socket),tweet_mode='extended')\n",
        "  twitter_stream.filter(track=[\"El 2\"])\n",
        "\n",
        "if __name__ == \"__main__\":\n",
        "  s = socket.socket()         # Create a socket object\n",
        "  host = \"127.0.0.1\"     # Get local machine name\n",
        "  port = 5554                 # Reserve a port for your service.\n",
        "  s.bind((host, port))        # Bind to the port\n",
        "  print(\"Listening on port: %s\" % str(port))\n",
        "  s.listen(5)                 # Now wait for client connection.\n",
        "  c, addr = s.accept()        # Establish connection with client.\n",
        "  print( \"Received request from: \" + str( addr ) )\n",
        "  sendData( c )"
      ],
      "metadata": {
        "id": "OSsPqOsgNErz"
      },
      "execution_count": null,
      "outputs": []
    }
  ]
}