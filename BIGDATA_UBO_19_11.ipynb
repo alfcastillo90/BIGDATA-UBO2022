{
  "nbformat": 4,
  "nbformat_minor": 0,
  "metadata": {
    "colab": {
      "provenance": [],
      "authorship_tag": "ABX9TyM8uNhczWXFf6kXerkwwMwY",
      "include_colab_link": true
    },
    "kernelspec": {
      "name": "python3",
      "display_name": "Python 3"
    },
    "language_info": {
      "name": "python"
    }
  },
  "cells": [
    {
      "cell_type": "markdown",
      "metadata": {
        "id": "view-in-github",
        "colab_type": "text"
      },
      "source": [
        "<a href=\"https://colab.research.google.com/github/sightes/BIGDATA-UBO2022/blob/main/BIGDATA_UBO_19_11.ipynb\" target=\"_parent\"><img src=\"https://colab.research.google.com/assets/colab-badge.svg\" alt=\"Open In Colab\"/></a>"
      ]
    },
    {
      "cell_type": "code",
      "execution_count": null,
      "metadata": {
        "colab": {
          "base_uri": "https://localhost:8080/"
        },
        "id": "D1d3hlIw3bHC",
        "outputId": "e0ff87b5-48d1-4bb5-ec2c-bb45dc1477a4"
      },
      "outputs": [
        {
          "output_type": "stream",
          "name": "stdout",
          "text": [
            "Mounted at /content/gdrive\n"
          ]
        }
      ],
      "source": [
        "from google.colab import drive \n",
        "drive.mount(\"/content/gdrive\")\n",
        "gdrive='content/gdrive/MyDrive/UBO-BIGDATA1'"
      ]
    },
    {
      "cell_type": "code",
      "source": [
        "%%capture\n",
        "!apt-get install openjdk-8-jdk-headless -qq > /dev/null\n",
        "!wget 'https://dlcdn.apache.org/spark/spark-3.3.1/spark-3.3.1-bin-hadoop3.tgz' -O 'spark-3.3.1-bin-hadoop3.tgz'\n",
        "!tar -xvf /content/spark-3.3.1-bin-hadoop3.tgz\n",
        "!pip install -q findspark "
      ],
      "metadata": {
        "id": "Uckoua268L2W"
      },
      "execution_count": null,
      "outputs": []
    },
    {
      "cell_type": "code",
      "source": [
        "import os \n",
        "os.environ['JAVA_HOME']='/usr/lib/jvm/java-8-openjdk-amd64'\n",
        "os.environ['SPARK_HOME']='/content/spark-3.3.1-bin-hadoop3'"
      ],
      "metadata": {
        "id": "tKLo2Cj_-j8Q"
      },
      "execution_count": null,
      "outputs": []
    },
    {
      "cell_type": "code",
      "source": [
        "import findspark \n",
        "findspark.init()\n",
        "from pyspark.sql import SparkSession\n",
        "spark=SparkSession.builder.master(\"local[*]\").appName(\"ejemplo1\").getOrCreate()"
      ],
      "metadata": {
        "id": "T_LrCfMj_-5P"
      },
      "execution_count": null,
      "outputs": []
    },
    {
      "cell_type": "code",
      "source": [
        "!ls"
      ],
      "metadata": {
        "colab": {
          "base_uri": "https://localhost:8080/"
        },
        "id": "BzM84F2dCUet",
        "outputId": "67449666-4388-4d6f-84cd-83a5127cad7e"
      },
      "execution_count": null,
      "outputs": [
        {
          "output_type": "stream",
          "name": "stdout",
          "text": [
            "gdrive\tsample_data  spark-3.3.1-bin-hadoop3  spark-3.3.1-bin-hadoop3.tgz\n"
          ]
        }
      ]
    },
    {
      "cell_type": "code",
      "source": [
        "!unzip '/content/gdrive/MyDrive/UBO-BIGDATA1/archive.zip'"
      ],
      "metadata": {
        "colab": {
          "base_uri": "https://localhost:8080/"
        },
        "id": "jZnU8NcNDKzR",
        "outputId": "78b01b31-ec59-4859-bd00-f66f2cef4b8b"
      },
      "execution_count": null,
      "outputs": [
        {
          "output_type": "stream",
          "name": "stdout",
          "text": [
            "Archive:  /content/gdrive/MyDrive/UBO-BIGDATA1/archive.zip\n",
            "  inflating: 2019-Dec.csv            \n",
            "  inflating: 2019-Nov.csv            \n",
            "  inflating: 2019-Oct.csv            \n",
            "  inflating: 2020-Feb.csv            \n",
            "  inflating: 2020-Jan.csv            \n"
          ]
        }
      ]
    },
    {
      "cell_type": "code",
      "source": [
        "df=spark.read.options(header='True',inferSchema='True').csv('/content/*.csv')"
      ],
      "metadata": {
        "id": "p0DJtSmTES5b"
      },
      "execution_count": null,
      "outputs": []
    },
    {
      "cell_type": "code",
      "source": [
        "df.count()"
      ],
      "metadata": {
        "colab": {
          "base_uri": "https://localhost:8080/"
        },
        "id": "lkka_POiG6SL",
        "outputId": "102d622a-7dcd-426f-f29d-3b0aa3bb8a79"
      },
      "execution_count": null,
      "outputs": [
        {
          "output_type": "execute_result",
          "data": {
            "text/plain": [
              "20692840"
            ]
          },
          "metadata": {},
          "execution_count": 8
        }
      ]
    },
    {
      "cell_type": "code",
      "source": [
        "df.printSchema()"
      ],
      "metadata": {
        "colab": {
          "base_uri": "https://localhost:8080/"
        },
        "id": "2Xp1yGFNHPuW",
        "outputId": "1bd78b89-d5eb-4eea-bede-4e8685456edd"
      },
      "execution_count": null,
      "outputs": [
        {
          "output_type": "stream",
          "name": "stdout",
          "text": [
            "root\n",
            " |-- event_time: timestamp (nullable = true)\n",
            " |-- event_type: string (nullable = true)\n",
            " |-- product_id: integer (nullable = true)\n",
            " |-- category_id: long (nullable = true)\n",
            " |-- category_code: string (nullable = true)\n",
            " |-- brand: string (nullable = true)\n",
            " |-- price: double (nullable = true)\n",
            " |-- user_id: integer (nullable = true)\n",
            " |-- user_session: string (nullable = true)\n",
            "\n"
          ]
        }
      ]
    },
    {
      "cell_type": "code",
      "source": [
        "df.select('event_type').distinct().show()"
      ],
      "metadata": {
        "colab": {
          "base_uri": "https://localhost:8080/"
        },
        "id": "cHggY_YMH9BX",
        "outputId": "fdf578cd-3114-46a3-f95b-c7b5b8ee0eca"
      },
      "execution_count": null,
      "outputs": [
        {
          "output_type": "stream",
          "name": "stdout",
          "text": [
            "+----------------+\n",
            "|      event_type|\n",
            "+----------------+\n",
            "|        purchase|\n",
            "|            view|\n",
            "|            cart|\n",
            "|remove_from_cart|\n",
            "+----------------+\n",
            "\n"
          ]
        }
      ]
    },
    {
      "cell_type": "code",
      "source": [
        "df.createOrReplaceTempView(\"data\")\n",
        "spark.sql(\"select event_type from data group by event_type limit 5\").show()"
      ],
      "metadata": {
        "colab": {
          "base_uri": "https://localhost:8080/"
        },
        "id": "J4idwckYI4fX",
        "outputId": "65a29df3-686f-4e5c-f760-b6f2f15fb569"
      },
      "execution_count": null,
      "outputs": [
        {
          "output_type": "stream",
          "name": "stdout",
          "text": [
            "+----------------+\n",
            "|      event_type|\n",
            "+----------------+\n",
            "|        purchase|\n",
            "|            view|\n",
            "|            cart|\n",
            "|remove_from_cart|\n",
            "+----------------+\n",
            "\n"
          ]
        }
      ]
    },
    {
      "cell_type": "code",
      "source": [
        "df.createOrReplaceTempView(\"data\")\n",
        "spark.sql(\"select product_id,count(*) from data \\\n",
        " where event_type='purchase' group by product_id limit 5\").show()"
      ],
      "metadata": {
        "id": "10VPeS6aK554"
      },
      "execution_count": null,
      "outputs": []
    },
    {
      "cell_type": "code",
      "source": [
        "df.select(['product_id']).filter( \"event_type='purchase'\").distinct().show()\n",
        "\n"
      ],
      "metadata": {
        "colab": {
          "base_uri": "https://localhost:8080/"
        },
        "id": "NK5TVOlaLpoX",
        "outputId": "c154258a-e496-4d01-d365-d115afa3e0b4"
      },
      "execution_count": null,
      "outputs": [
        {
          "output_type": "stream",
          "name": "stdout",
          "text": [
            "+----------+\n",
            "|product_id|\n",
            "+----------+\n",
            "|   5815137|\n",
            "|   5670719|\n",
            "|   5574996|\n",
            "|   5900643|\n",
            "|   5863096|\n",
            "|   5834157|\n",
            "|   5823267|\n",
            "|   5868397|\n",
            "|   5809871|\n",
            "|   5814871|\n",
            "|   5885863|\n",
            "|     59990|\n",
            "|   5837927|\n",
            "|   5695639|\n",
            "|   5767927|\n",
            "|   5859171|\n",
            "|   5563822|\n",
            "|   5744098|\n",
            "|   5908237|\n",
            "|   5890174|\n",
            "+----------+\n",
            "only showing top 20 rows\n",
            "\n"
          ]
        }
      ]
    },
    {
      "cell_type": "markdown",
      "source": [
        "\n",
        "ACTIVIDAD\n",
        "\n",
        "\n",
        "1.   Seleccionar un producto \n",
        "2.   identificar las sesiones de carrito \n",
        "que tienen ese producto\n",
        "3.  identificar los productos que pertenecen al mismo carrito que el producto seleccionado\n",
        "\n",
        "\n",
        "sulloa@ieee.org\n",
        "\n",
        " \n",
        "\n"
      ],
      "metadata": {
        "id": "tnL8nP4bNryW"
      }
    },
    {
      "cell_type": "code",
      "source": [
        "spark.sql(\"select count(distinct(product_id)) from data\").show()"
      ],
      "metadata": {
        "colab": {
          "base_uri": "https://localhost:8080/"
        },
        "id": "WynA5jZ1PWkC",
        "outputId": "da447791-fcbe-4f2a-a834-211974ceaf54"
      },
      "execution_count": null,
      "outputs": [
        {
          "output_type": "stream",
          "name": "stdout",
          "text": [
            "+--------------------------+\n",
            "|count(DISTINCT product_id)|\n",
            "+--------------------------+\n",
            "|                     54571|\n",
            "+--------------------------+\n",
            "\n"
          ]
        }
      ]
    },
    {
      "cell_type": "markdown",
      "source": [
        "RDD"
      ],
      "metadata": {
        "id": "c4d48OKkTjnl"
      }
    },
    {
      "cell_type": "code",
      "source": [
        "spark=SparkSession.builder.getOrCreate()\n",
        "sc=spark.sparkContext\n",
        "num=[1,2,3,4,5]"
      ],
      "metadata": {
        "id": "_AHhwCu7TpzC"
      },
      "execution_count": null,
      "outputs": []
    },
    {
      "cell_type": "code",
      "source": [
        "num_rdd=sc.parallelize(num)"
      ],
      "metadata": {
        "id": "g0ooWnXAUPi2"
      },
      "execution_count": null,
      "outputs": []
    },
    {
      "cell_type": "code",
      "source": [
        "doble_RDD=num_rdd.map(lambda x:x*2)"
      ],
      "metadata": {
        "id": "0KA_hkfcUVYn"
      },
      "execution_count": null,
      "outputs": []
    },
    {
      "cell_type": "code",
      "source": [
        "doble_RDD.collect()"
      ],
      "metadata": {
        "colab": {
          "base_uri": "https://localhost:8080/"
        },
        "id": "Nq23nFp8U4sQ",
        "outputId": "754fb987-8364-4f00-aef4-608774032614"
      },
      "execution_count": null,
      "outputs": [
        {
          "output_type": "execute_result",
          "data": {
            "text/plain": [
              "[2, 4, 6, 8, 10]"
            ]
          },
          "metadata": {},
          "execution_count": 28
        }
      ]
    },
    {
      "cell_type": "code",
      "source": [
        "df.select(['brand']).distinct().show()"
      ],
      "metadata": {
        "colab": {
          "base_uri": "https://localhost:8080/"
        },
        "id": "Y11R_RfHd92N",
        "outputId": "bbbd47ba-03b1-4c73-c218-7ddfbeead8a0"
      },
      "execution_count": null,
      "outputs": [
        {
          "output_type": "stream",
          "name": "stdout",
          "text": [
            "+------------+\n",
            "|       brand|\n",
            "+------------+\n",
            "|     beautix|\n",
            "|     farmona|\n",
            "|  dr.gloderm|\n",
            "|   profhenna|\n",
            "|     philips|\n",
            "|invisibobble|\n",
            "|       riche|\n",
            "|        oniq|\n",
            "|    lebelage|\n",
            "|     vilenta|\n",
            "|       fancy|\n",
            "|      jaguar|\n",
            "|      tertio|\n",
            "|    siberina|\n",
            "|   koreatida|\n",
            "|         jas|\n",
            "|rocknailstar|\n",
            "|   depilflax|\n",
            "|protokeratin|\n",
            "|       essie|\n",
            "+------------+\n",
            "only showing top 20 rows\n",
            "\n"
          ]
        }
      ]
    },
    {
      "cell_type": "code",
      "source": [
        "def myFunc(s):\n",
        "  if s['brand']=='riche' and s['event_type']== 'cart':\n",
        "    return [(s['product_id'],1)]\n",
        "  return []  "
      ],
      "metadata": {
        "id": "M4fyJVZvXt3z"
      },
      "execution_count": null,
      "outputs": []
    },
    {
      "cell_type": "code",
      "source": [
        "df.createOrReplaceTempView(\"data\")\n",
        "salida=spark.sql(\"select product_id,count(*) from data where brand='riche' \\\n",
        "and event_type='cart' group by product_id \")"
      ],
      "metadata": {
        "id": "1_93mQFeey2E"
      },
      "execution_count": null,
      "outputs": []
    },
    {
      "cell_type": "code",
      "source": [
        "lines=df.rdd.flatMap(myFunc).reduceByKey(lambda a,b:a+b)\n",
        "\n",
        "for e in lines.collect():\n",
        "  print(e)"
      ],
      "metadata": {
        "colab": {
          "base_uri": "https://localhost:8080/"
        },
        "id": "Bpq3m81fYLQp",
        "outputId": "1c160e11-3c2e-4ecb-f31e-3406f00e7cca"
      },
      "execution_count": null,
      "outputs": [
        {
          "output_type": "stream",
          "name": "stdout",
          "text": [
            "(5844571, 20)\n",
            "(5842234, 5)\n",
            "(5842215, 10)\n",
            "(5922110, 3)\n",
            "(5842235, 12)\n",
            "(5842217, 11)\n",
            "(5844573, 3)\n",
            "(5922112, 2)\n",
            "(5842219, 9)\n",
            "(5922114, 1)\n",
            "(5842258, 20)\n",
            "(5842220, 6)\n",
            "(5922115, 1)\n",
            "(5842202, 17)\n",
            "(5842221, 9)\n",
            "(5842240, 12)\n",
            "(5846097, 5)\n",
            "(5922097, 1)\n",
            "(5846098, 21)\n",
            "(5842203, 13)\n",
            "(5842222, 25)\n",
            "(5842241, 6)\n",
            "(5922117, 6)\n",
            "(5842204, 17)\n",
            "(5842223, 12)\n",
            "(5842242, 7)\n",
            "(5922118, 9)\n",
            "(5842224, 9)\n",
            "(5842205, 12)\n",
            "(5922119, 2)\n",
            "(5842206, 2)\n",
            "(5842225, 6)\n",
            "(5842226, 6)\n",
            "(5922121, 1)\n",
            "(5842227, 11)\n",
            "(5922103, 1)\n",
            "(5922122, 1)\n",
            "(5922104, 2)\n",
            "(5922123, 1)\n",
            "(5922124, 1)\n",
            "(5842268, 131)\n",
            "(5922106, 3)\n",
            "(5842212, 3)\n",
            "(5842231, 16)\n",
            "(5922107, 5)\n",
            "(5842213, 12)\n",
            "(5842232, 20)\n",
            "(5922108, 1)\n",
            "(5842214, 13)\n",
            "(5842233, 4)\n",
            "(5922109, 1)\n"
          ]
        }
      ]
    },
    {
      "cell_type": "code",
      "source": [
        "salida.write.mode('overwrite').csv(\"/content/gdrive/MyDrive/UBO-BIGDATA1/result\")"
      ],
      "metadata": {
        "id": "KPXa7-3KihL7"
      },
      "execution_count": null,
      "outputs": []
    }
  ]
}